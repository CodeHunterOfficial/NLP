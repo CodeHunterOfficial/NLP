{
  "nbformat": 4,
  "nbformat_minor": 0,
  "metadata": {
    "colab": {
      "provenance": [],
      "include_colab_link": true
    },
    "kernelspec": {
      "name": "python3",
      "display_name": "Python 3"
    },
    "language_info": {
      "name": "python"
    }
  },
  "cells": [
    {
      "cell_type": "markdown",
      "metadata": {
        "id": "view-in-github",
        "colab_type": "text"
      },
      "source": [
        "<a href=\"https://colab.research.google.com/github/CodeHunterOfficial/NLP/blob/main/A_simple_chatbot.ipynb\" target=\"_parent\"><img src=\"https://colab.research.google.com/assets/colab-badge.svg\" alt=\"Open In Colab\"/></a>"
      ]
    },
    {
      "cell_type": "markdown",
      "source": [
        "Импортируем библиотеку для работы с регулярными выражениями"
      ],
      "metadata": {
        "id": "w3Q_7Q_AnST2"
      }
    },
    {
      "cell_type": "code",
      "execution_count": null,
      "metadata": {
        "id": "hK4L4cLQma_W"
      },
      "outputs": [],
      "source": [
        "import re"
      ]
    },
    {
      "cell_type": "markdown",
      "source": [
        "\\* означание символ \"или\" и говорит про ПРЕДЫДУЩИЙ символ может встречаться 0 или более раз и при этои совпадать. Таким образом мы можем обработать любое предложение которое начинается со слов hi hello hey"
      ],
      "metadata": {
        "id": "gH-ZEdhDnT_L"
      }
    },
    {
      "cell_type": "code",
      "source": [
        "r = \"(hi|hello|hey)[ ]*([a-z]*)\""
      ],
      "metadata": {
        "id": "oaM0wPOynUSD"
      },
      "execution_count": null,
      "outputs": []
    },
    {
      "cell_type": "markdown",
      "source": [
        "re.match ищет соответствие шаблону в начале строки. передаются 3 параметра:\n",
        "* pattern - наш шаблон\n",
        "* string - строка которую проверям\n",
        "* flags = 0 - флаг управление, необязательный\n",
        "\n",
        "Мы используем готовый шаблон r и флаг re.IGNORECASE, который игнорирует регистр символов.\n",
        "\n",
        "Функция возвращает объект, если по шаблону подошло, в противном случае возвращает None"
      ],
      "metadata": {
        "id": "N6kRC_uInYPa"
      }
    },
    {
      "cell_type": "code",
      "source": [
        "re.match(r, 'Hello Rosa', flags = re.IGNORECASE)"
      ],
      "metadata": {
        "colab": {
          "base_uri": "https://localhost:8080/"
        },
        "id": "0ABMsCDLqFjr",
        "outputId": "1fd48026-c8d2-4fab-b525-a55e1c823b94"
      },
      "execution_count": null,
      "outputs": [
        {
          "output_type": "execute_result",
          "data": {
            "text/plain": [
              "<re.Match object; span=(0, 10), match='Hello Rosa'>"
            ]
          },
          "metadata": {},
          "execution_count": 34
        }
      ]
    },
    {
      "cell_type": "markdown",
      "source": [
        "Самый бональный способ продимострировать, где нам жто нужно"
      ],
      "metadata": {
        "id": "0qAZbeGyqM4C"
      }
    },
    {
      "cell_type": "code",
      "source": [
        "a = 1 if re.match(r, 'Hello Rosa', flags = re.IGNORECASE) else 0\n",
        "a"
      ],
      "metadata": {
        "colab": {
          "base_uri": "https://localhost:8080/"
        },
        "id": "PoQxq999nYi-",
        "outputId": "80edd106-c675-4196-b6ac-0f5e14c9078f"
      },
      "execution_count": null,
      "outputs": [
        {
          "output_type": "execute_result",
          "data": {
            "text/plain": [
              "1"
            ]
          },
          "metadata": {},
          "execution_count": 35
        }
      ]
    },
    {
      "cell_type": "code",
      "source": [
        "a = 1 if re.match(r, 'Helo Rosa', flags = re.IGNORECASE) else 0\n",
        "a"
      ],
      "metadata": {
        "colab": {
          "base_uri": "https://localhost:8080/"
        },
        "id": "HkB-PnqWqTeZ",
        "outputId": "342fe09f-f354-4eb1-eaaf-de32d36bd0bf"
      },
      "execution_count": null,
      "outputs": [
        {
          "output_type": "execute_result",
          "data": {
            "text/plain": [
              "0"
            ]
          },
          "metadata": {},
          "execution_count": 36
        }
      ]
    },
    {
      "cell_type": "markdown",
      "source": [
        "Так как в шаблоне у нас указано, что в выражении может быть только буквенные символы, поэтому как только встречаем \",\" нам возвращается выделенная строка"
      ],
      "metadata": {
        "id": "C1noCpWLnaWO"
      }
    },
    {
      "cell_type": "code",
      "source": [
        "re.match(r, \"hi ho, hi ho, it's off to work ...\", flags= re.IGNORECASE)"
      ],
      "metadata": {
        "colab": {
          "base_uri": "https://localhost:8080/"
        },
        "id": "Qsv_ikounarB",
        "outputId": "61d615b1-ea1e-4f7d-d92f-e0b5a59404aa"
      },
      "execution_count": null,
      "outputs": [
        {
          "output_type": "execute_result",
          "data": {
            "text/plain": [
              "<re.Match object; span=(0, 5), match='hi ho'>"
            ]
          },
          "metadata": {},
          "execution_count": 37
        }
      ]
    },
    {
      "cell_type": "code",
      "source": [
        "re.match(r, \"hey, what's up\", flags = re.IGNORECASE)"
      ],
      "metadata": {
        "colab": {
          "base_uri": "https://localhost:8080/"
        },
        "id": "Z6eLXKmendIA",
        "outputId": "bd027357-294e-4e6f-fd91-fe3f9382d8f3"
      },
      "execution_count": null,
      "outputs": [
        {
          "output_type": "execute_result",
          "data": {
            "text/plain": [
              "<re.Match object; span=(0, 3), match='hey'>"
            ]
          },
          "metadata": {},
          "execution_count": 38
        }
      ]
    },
    {
      "cell_type": "markdown",
      "source": [
        "Детализируем наше регулярное выражение\n",
        "\n",
        "В регулярных выражениях \n",
        "* \\[ ] - один из символов в скобках,\n",
        "а также любой символ из диапазона\n",
        "* \\[^ ] - любой символ, кроме перечисленных\n",
        "* \\* - 0 или более раз\n",
        "* ? - 0 или 1 раз\n",
        "* {m, n} - от m до n раз включительно   \n",
        "* \\s любой непробельный символ"
      ],
      "metadata": {
        "id": "uAtlq9IurJ-z"
      }
    },
    {
      "cell_type": "code",
      "source": [
        "r = r\"[^a-z]*([y]o|[h']?ello|ok|hey|hi|(good[ ])?(morn[gin']{0,3}|afternoon|even[gin']{0,3}))[\\s,;:]{1,3}([a-z]{1,20})\""
      ],
      "metadata": {
        "id": "6HejIlffrKSH"
      },
      "execution_count": null,
      "outputs": []
    },
    {
      "cell_type": "markdown",
      "source": [
        "re.compile - компилирует объект регулярного выражения.для последующего использования используем 2 параметра:\n",
        "* pattern - шаблон\n",
        "* flags = 0 - флаг управление, необязательно\n",
        "\n",
        "скомпилируем наш шаблон в переменную с флагом игнорирование регистра"
      ],
      "metadata": {
        "id": "YcCsJHqbttvm"
      }
    },
    {
      "cell_type": "code",
      "source": [
        "re_greeting = re.compile(r, flags=re.IGNORECASE)"
      ],
      "metadata": {
        "id": "w3M5AByctg5X"
      },
      "execution_count": null,
      "outputs": []
    },
    {
      "cell_type": "markdown",
      "source": [
        "Теперь нам можно легче и быстрее пользоваться функциями re"
      ],
      "metadata": {
        "id": "G1XrMQmuuZNa"
      }
    },
    {
      "cell_type": "code",
      "source": [
        "re_greeting.match('Hello Rosa')"
      ],
      "metadata": {
        "colab": {
          "base_uri": "https://localhost:8080/"
        },
        "id": "ySKqz0lqtrEm",
        "outputId": "b75188ef-9d73-4379-c91c-9c103f0cc18f"
      },
      "execution_count": null,
      "outputs": [
        {
          "output_type": "execute_result",
          "data": {
            "text/plain": [
              "<re.Match object; span=(0, 10), match='Hello Rosa'>"
            ]
          },
          "metadata": {},
          "execution_count": 41
        }
      ]
    },
    {
      "cell_type": "markdown",
      "source": [
        "groups() возвращает список кортежей содержащих подгруппу"
      ],
      "metadata": {
        "id": "I2WcYrdiwzfA"
      }
    },
    {
      "cell_type": "code",
      "source": [
        "re_greeting.match('Hello Rosa').groups()"
      ],
      "metadata": {
        "colab": {
          "base_uri": "https://localhost:8080/"
        },
        "id": "CCXfs8zyuYDk",
        "outputId": "1a1b2296-666a-47ec-cc90-9507e5d99503"
      },
      "execution_count": null,
      "outputs": [
        {
          "output_type": "execute_result",
          "data": {
            "text/plain": [
              "('Hello', None, None, 'Rosa')"
            ]
          },
          "metadata": {},
          "execution_count": 42
        }
      ]
    },
    {
      "cell_type": "code",
      "source": [
        "re_greeting.match('Good morning Rosa')"
      ],
      "metadata": {
        "colab": {
          "base_uri": "https://localhost:8080/"
        },
        "id": "C79c4ccZuzzi",
        "outputId": "6fefc9cd-da75-4b42-9325-d36005d86630"
      },
      "execution_count": null,
      "outputs": [
        {
          "output_type": "execute_result",
          "data": {
            "text/plain": [
              "<re.Match object; span=(0, 17), match='Good morning Rosa'>"
            ]
          },
          "metadata": {},
          "execution_count": 55
        }
      ]
    },
    {
      "cell_type": "markdown",
      "source": [
        "Главная проблема регулярок это то что они не могут распознать слова с опечатками"
      ],
      "metadata": {
        "id": "4g5JmQdSxfx_"
      }
    },
    {
      "cell_type": "code",
      "source": [
        "re_greeting.match(\"Good Manning Rosa\")"
      ],
      "metadata": {
        "id": "oq_3u_2fxdeZ"
      },
      "execution_count": null,
      "outputs": []
    },
    {
      "cell_type": "markdown",
      "source": [
        "проведем еще пару тестов"
      ],
      "metadata": {
        "id": "I89fErguyT71"
      }
    },
    {
      "cell_type": "code",
      "source": [
        "re_greeting.match('Good evening Rosa Parks').groups()"
      ],
      "metadata": {
        "colab": {
          "base_uri": "https://localhost:8080/"
        },
        "id": "osrCHvhYxfXg",
        "outputId": "5393a857-2ca5-4bed-daf8-aa470bfde480"
      },
      "execution_count": null,
      "outputs": [
        {
          "output_type": "execute_result",
          "data": {
            "text/plain": [
              "('Good evening', 'Good ', 'evening', 'Rosa')"
            ]
          },
          "metadata": {},
          "execution_count": 57
        }
      ]
    },
    {
      "cell_type": "code",
      "source": [
        "re_greeting.match(\"Good Morn'n Rosa\")"
      ],
      "metadata": {
        "colab": {
          "base_uri": "https://localhost:8080/"
        },
        "id": "VPc5msJlyRdh",
        "outputId": "4b98c415-95a1-43d6-88d6-758fa7cc6b0f"
      },
      "execution_count": null,
      "outputs": [
        {
          "output_type": "execute_result",
          "data": {
            "text/plain": [
              "<re.Match object; span=(0, 16), match=\"Good Morn'n Rosa\">"
            ]
          },
          "metadata": {},
          "execution_count": 58
        }
      ]
    },
    {
      "cell_type": "code",
      "source": [
        "re_greeting.match(\"yo Rosa\")"
      ],
      "metadata": {
        "colab": {
          "base_uri": "https://localhost:8080/"
        },
        "id": "Zp_f6V8GyTLh",
        "outputId": "d339ccb9-34e2-4f79-c818-18b7f51f4390"
      },
      "execution_count": null,
      "outputs": [
        {
          "output_type": "execute_result",
          "data": {
            "text/plain": [
              "<re.Match object; span=(0, 7), match='yo Rosa'>"
            ]
          },
          "metadata": {},
          "execution_count": 59
        }
      ]
    },
    {
      "cell_type": "markdown",
      "source": [
        "Напишем самый первый чат бот с помощью регулярных выражений"
      ],
      "metadata": {
        "id": "YXLfddvfOx5w"
      }
    },
    {
      "cell_type": "code",
      "source": [
        "my_names = set(['rosa', 'rose', 'chatty', 'chatbot', 'bot', 'chatterbot'])\n",
        "curt_names = set(['hal', 'you', 'u'])\n",
        "greeter_name = 'miss'\n",
        "match = re_greeting.match(input())\n",
        "if match:\n",
        "    at_name = match.groups()[-1]\n",
        "    if at_name in curt_names:\n",
        "        print(\"Good one.\")\n",
        "    elif at_name.lower() in my_names:\n",
        "        print(\"Hi {}, How are you?\".format(greeter_name))"
      ],
      "metadata": {
        "colab": {
          "base_uri": "https://localhost:8080/"
        },
        "id": "EBpqpJfpyXeh",
        "outputId": "c2a2201f-8f75-4d16-b81a-1663ee81fd7a"
      },
      "execution_count": null,
      "outputs": [
        {
          "output_type": "stream",
          "name": "stdout",
          "text": [
            "good morning bot\n",
            "Hi miss, How are you?\n"
          ]
        }
      ]
    }
  ]
}