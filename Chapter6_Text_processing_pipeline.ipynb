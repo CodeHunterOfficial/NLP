{
  "nbformat": 4,
  "nbformat_minor": 0,
  "metadata": {
    "colab": {
      "name": "Untitled3.ipynb",
      "provenance": [],
      "authorship_tag": "ABX9TyO5CXk7N6J9JoekB5xjJRAz",
      "include_colab_link": true
    },
    "kernelspec": {
      "name": "python3",
      "display_name": "Python 3"
    },
    "language_info": {
      "name": "python"
    }
  },
  "cells": [
    {
      "cell_type": "markdown",
      "metadata": {
        "id": "view-in-github",
        "colab_type": "text"
      },
      "source": [
        "<a href=\"https://colab.research.google.com/github/CodeHunterOfficial/NLP_Spacy_Python/blob/main/Chapter6_Text_processing_pipeline.ipynb\" target=\"_parent\"><img src=\"https://colab.research.google.com/assets/colab-badge.svg\" alt=\"Open In Colab\"/></a>"
      ]
    },
    {
      "cell_type": "code",
      "execution_count": 1,
      "metadata": {
        "colab": {
          "base_uri": "https://localhost:8080/"
        },
        "id": "6gLrSMswudsY",
        "outputId": "5feb1911-7f07-4991-9c7c-a7ed74602b81"
      },
      "outputs": [
        {
          "output_type": "stream",
          "name": "stdout",
          "text": [
            "We You nsubj nominal subject\n",
            "can must aux auxiliary\n",
            "overtake specify ROOT root\n",
            "them it dobj direct object\n"
          ]
        }
      ],
      "source": [
        "import spacy \n",
        "nlp = spacy.load('en_core_web_sm') \n",
        "doc1 = nlp(u'We can overtake them.') \n",
        "doc2 = nlp(u'You must specify it.') \n",
        "for i in range(len(doc1)-1):  \n",
        "  if doc1[i].dep_ == doc2[i].dep_:    \n",
        "    print(doc1[i].text, doc2[i].text, doc1[i].dep_,    spacy.explain(doc1[i].dep_))\n"
      ]
    },
    {
      "cell_type": "code",
      "source": [
        "import spacy \n",
        "nlp = spacy.load('en_core_web_sm') \n",
        "def dep_pattern(doc):  \n",
        "  for i in range(len(doc)-1):    \n",
        "    if doc[i].dep_ == 'nsubj' and doc[i+1].dep_ == 'aux' and     doc[i+2].dep_ == 'ROOT':      \n",
        "      for tok in doc[i+2].children:        \n",
        "        if tok.dep_ == 'dobj':         \n",
        "           return True  \n",
        "  return False \n",
        "doc = nlp(u'We can overtake them.') \n",
        "if dep_pattern(doc):  \n",
        "  print('Found') \n",
        "else:  \n",
        "  print('Not found')\n"
      ],
      "metadata": {
        "colab": {
          "base_uri": "https://localhost:8080/"
        },
        "id": "_vHblZAVuu_e",
        "outputId": "8a5df6a7-e667-4b74-9c01-760b26ad9351"
      },
      "execution_count": 2,
      "outputs": [
        {
          "output_type": "stream",
          "name": "stdout",
          "text": [
            "Found\n"
          ]
        }
      ]
    },
    {
      "cell_type": "code",
      "source": [
        "import spacy \n",
        "from spacy.matcher import Matcher \n",
        "nlp = spacy.load(\"en_core_web_sm\") \n",
        "matcher = Matcher(nlp.vocab) \n",
        "\n",
        "pattern = [{\"DEP\": \"nsubj\"}, {\"DEP\": \"aux\"}, {\"DEP\": \"ROOT\"}]\n",
        "matcher.add(\"NsubjAuxRoot\", [pattern])\n",
        "\n",
        "doc = nlp(u\"We can overtake them.\") \n",
        "matches = matcher(doc) \n",
        "for match_id, start, end in matches: \n",
        "  span = doc[start:end]  \n",
        "  print(\"Span: \", span.text)    \n",
        "  print(\"The positions in the doc are: \", start, \"-\", end)"
      ],
      "metadata": {
        "colab": {
          "base_uri": "https://localhost:8080/"
        },
        "id": "NWv8CEH8vBc_",
        "outputId": "9e7e76d8-77da-4493-baec-ec83ab611f2c"
      },
      "execution_count": 10,
      "outputs": [
        {
          "output_type": "stream",
          "name": "stdout",
          "text": [
            "Span:  We can overtake\n",
            "The positions in the doc are:  0 - 3\n"
          ]
        }
      ]
    },
    {
      "cell_type": "code",
      "source": [
        "import spacy\n",
        "from spacy.matcher import Matcher\n",
        "\n",
        "nlp = spacy.load(\"en_core_web_sm\")\n",
        "matcher = Matcher(nlp.vocab)\n",
        "# Add match ID \"HelloWorld\" with no callback and one pattern\n",
        "pattern = [{\"LOWER\": \"hello\"}, {\"IS_PUNCT\": True}, {\"LOWER\": \"world\"}]\n",
        "matcher.add(\"HelloWorld\", [pattern])\n",
        "\n",
        "doc = nlp(\"Hello, world! Hello world!\")\n",
        "matches = matcher(doc)\n",
        "for match_id, start, end in matches:\n",
        "    string_id = nlp.vocab.strings[match_id]  # Get string representation\n",
        "    span = doc[start:end]  # The matched span\n",
        "    print(match_id, string_id, start, end, span.text)"
      ],
      "metadata": {
        "colab": {
          "base_uri": "https://localhost:8080/"
        },
        "id": "-Q4aJqjRv5lS",
        "outputId": "9bd77403-1246-4976-ac30-d401650efca6"
      },
      "execution_count": 5,
      "outputs": [
        {
          "output_type": "stream",
          "name": "stdout",
          "text": [
            "15578876784678163569 HelloWorld 0 3 Hello, world\n"
          ]
        }
      ]
    }
  ]
}