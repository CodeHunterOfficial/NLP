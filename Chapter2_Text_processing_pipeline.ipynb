{
  "nbformat": 4,
  "nbformat_minor": 0,
  "metadata": {
    "colab": {
      "name": "Untitled0.ipynb",
      "provenance": [],
      "collapsed_sections": [],
      "authorship_tag": "ABX9TyNjpDlPGqQdXiX1Xca9PYOt",
      "include_colab_link": true
    },
    "kernelspec": {
      "name": "python3",
      "display_name": "Python 3"
    },
    "language_info": {
      "name": "python"
    }
  },
  "cells": [
    {
      "cell_type": "markdown",
      "metadata": {
        "id": "view-in-github",
        "colab_type": "text"
      },
      "source": [
        "<a href=\"https://colab.research.google.com/github/CodeHunterOfficial/NLP_Spacy_Python/blob/main/Chapter2_Text_processing_pipeline.ipynb\" target=\"_parent\"><img src=\"https://colab.research.google.com/assets/colab-badge.svg\" alt=\"Open In Colab\"/></a>"
      ]
    },
    {
      "cell_type": "code",
      "execution_count": 6,
      "metadata": {
        "id": "0JApn4dGjtii"
      },
      "outputs": [],
      "source": [
        "# https://spacy.io/usage/models\n",
        "#page 43\n",
        "import spacy\n",
        "nlp = spacy.load(\"en_core_web_sm\")\n",
        "doc=nlp(u'I am flying to Frisco')"
      ]
    },
    {
      "cell_type": "code",
      "source": [
        "print([w.text for w in doc])"
      ],
      "metadata": {
        "colab": {
          "base_uri": "https://localhost:8080/"
        },
        "id": "7B6JvUeWlx03",
        "outputId": "89185f8c-b07a-4bbc-e9dd-c49e2ae978bc"
      },
      "execution_count": 5,
      "outputs": [
        {
          "output_type": "stream",
          "name": "stdout",
          "text": [
            "['I', 'am', 'flying', 'to', 'Frisco']\n"
          ]
        }
      ]
    },
    {
      "cell_type": "code",
      "source": [
        "#page 44 Лематизация\n",
        "import spacy\n",
        "nlp = spacy.load(\"en_core_web_sm\")\n",
        "doc=nlp(u'This product integrates both libraries for downloading and applying patches')\n",
        "for token in doc:\n",
        "  print(token.text, token.lemma_)"
      ],
      "metadata": {
        "colab": {
          "base_uri": "https://localhost:8080/"
        },
        "id": "TWE-96nSkfAf",
        "outputId": "67166b14-a667-4566-96ab-86e6776daa1a"
      },
      "execution_count": 8,
      "outputs": [
        {
          "output_type": "stream",
          "name": "stdout",
          "text": [
            "This this\n",
            "product product\n",
            "integrates integrate\n",
            "both both\n",
            "libraries library\n",
            "for for\n",
            "downloading download\n",
            "and and\n",
            "applying apply\n",
            "patches patch\n"
          ]
        }
      ]
    }
  ]
}