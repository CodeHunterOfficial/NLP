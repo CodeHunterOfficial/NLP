{
  "nbformat": 4,
  "nbformat_minor": 0,
  "metadata": {
    "colab": {
      "provenance": [],
      "authorship_tag": "ABX9TyNyxhFjdL5wfP+tdw+GPfmQ",
      "include_colab_link": true
    },
    "kernelspec": {
      "name": "python3",
      "display_name": "Python 3"
    },
    "language_info": {
      "name": "python"
    }
  },
  "cells": [
    {
      "cell_type": "markdown",
      "metadata": {
        "id": "view-in-github",
        "colab_type": "text"
      },
      "source": [
        "<a href=\"https://colab.research.google.com/github/CodeHunterOfficial/NLP/blob/main/Chunk.ipynb\" target=\"_parent\"><img src=\"https://colab.research.google.com/assets/colab-badge.svg\" alt=\"Open In Colab\"/></a>"
      ]
    },
    {
      "cell_type": "markdown",
      "source": [
        "[См. тоже](https://spacy.io/usage/linguistic-features)"
      ],
      "metadata": {
        "id": "pgVm34vBT5hN"
      }
    },
    {
      "cell_type": "code",
      "execution_count": null,
      "metadata": {
        "colab": {
          "base_uri": "https://localhost:8080/"
        },
        "id": "jS1QEgxuQZAf",
        "outputId": "ba86c6bc-e353-4183-f2fd-c81cee226e2b"
      },
      "outputs": [
        {
          "output_type": "stream",
          "name": "stdout",
          "text": [
            "A noun chunk\n",
            "a phrase\n",
            "that\n",
            "a noun\n",
            "its head\n"
          ]
        }
      ],
      "source": [
        "import spacy\n",
        "nlp = spacy.load(\"en_core_web_sm\")\n",
        "doc = nlp(u'A noun chunk is a phrase that has a noun as its head.')\n",
        "for chunk in doc.noun_chunks: \n",
        "  print(chunk)"
      ]
    },
    {
      "cell_type": "code",
      "source": [
        "#64 page\n",
        "for token in doc: \n",
        "  for w in token.children: \n",
        "     if w.pos_ == 'DET' or w.pos_ == 'ADJ':\n",
        "           chunk = chunk + w.text + ' '\n",
        "           print(w.text+' '+token.text) "
      ],
      "metadata": {
        "colab": {
          "base_uri": "https://localhost:8080/"
        },
        "id": "0W0KufXVQpHu",
        "outputId": "0a3b965f-b0f9-4b7a-ccb7-f096056aeea1"
      },
      "execution_count": null,
      "outputs": [
        {
          "output_type": "stream",
          "name": "stdout",
          "text": [
            "A chunk\n",
            "a phrase\n",
            "a noun\n"
          ]
        }
      ]
    },
    {
      "cell_type": "markdown",
      "source": [
        "![image.png](data:image/png;base64,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)"
      ],
      "metadata": {
        "id": "xCJp5gDTSNIX"
      }
    },
    {
      "cell_type": "code",
      "source": [
        "for token in doc:\n",
        "  if token.pos_=='NOUN':\n",
        "    chunk = ''\n",
        "    for w in token.children:\n",
        "      if w.pos_ == 'DET' or w.pos_ == 'ADJ':\n",
        "        chunk = chunk + w.text + ' '\n",
        "    chunk = chunk + token.text\n",
        "    print(chunk)"
      ],
      "metadata": {
        "colab": {
          "base_uri": "https://localhost:8080/"
        },
        "id": "xkbV5NGlSFAx",
        "outputId": "53ecdb79-0e11-479d-cbff-2960ed2f0f97"
      },
      "execution_count": null,
      "outputs": [
        {
          "output_type": "stream",
          "name": "stdout",
          "text": [
            "noun\n",
            "A chunk\n",
            "a phrase\n",
            "a noun\n",
            "head\n"
          ]
        }
      ]
    },
    {
      "cell_type": "code",
      "source": [
        "import spacy\n",
        "for chunk in doc.noun_chunks:\n",
        "    print(chunk.text, chunk.root.text, chunk.root.dep_,\n",
        "            chunk.root.head.text)"
      ],
      "metadata": {
        "colab": {
          "base_uri": "https://localhost:8080/"
        },
        "id": "GLWF-bNKTZ10",
        "outputId": "da9e49ec-9dcc-4e46-ade6-8cbb6c27a6a2"
      },
      "execution_count": null,
      "outputs": [
        {
          "output_type": "stream",
          "name": "stdout",
          "text": [
            "A noun chunk chunk nsubj is\n",
            "a phrase phrase attr is\n",
            "that that nsubj has\n",
            "a noun noun dobj has\n",
            "its head head pobj as\n"
          ]
        }
      ]
    },
    {
      "cell_type": "code",
      "source": [
        "for token in doc:\n",
        "    print(token.text, token.dep_, token.head.text, token.head.pos_,\n",
        "            [child for child in token.children])"
      ],
      "metadata": {
        "colab": {
          "base_uri": "https://localhost:8080/"
        },
        "id": "a23nA3Q-Tl4N",
        "outputId": "4bc4ff4c-69fb-44b0-890b-2dd0be9d41d6"
      },
      "execution_count": null,
      "outputs": [
        {
          "output_type": "stream",
          "name": "stdout",
          "text": [
            "A det chunk NOUN []\n",
            "noun compound chunk NOUN []\n",
            "chunk nsubj is AUX [A, noun]\n",
            "is ROOT is AUX [chunk, phrase, .]\n",
            "a det phrase NOUN []\n",
            "phrase attr is AUX [a, has]\n",
            "that nsubj has VERB []\n",
            "has relcl phrase NOUN [that, noun]\n",
            "a det noun NOUN []\n",
            "noun dobj has VERB [a, as]\n",
            "as prep noun NOUN [head]\n",
            "its poss head NOUN []\n",
            "head pobj as ADP [its]\n",
            ". punct is AUX []\n"
          ]
        }
      ]
    },
    {
      "cell_type": "code",
      "source": [
        "from spacy.symbols import nsubj, VERB\n",
        "verbs = set()\n",
        "for possible_subject in doc:\n",
        "    if possible_subject.dep == nsubj and possible_subject.head.pos == VERB:\n",
        "        verbs.add(possible_subject.head)\n",
        "print(verbs)"
      ],
      "metadata": {
        "colab": {
          "base_uri": "https://localhost:8080/"
        },
        "id": "nsZ4JfYSTobI",
        "outputId": "407ed966-4c92-4dc8-c5cd-0ef63b982ab1"
      },
      "execution_count": null,
      "outputs": [
        {
          "output_type": "stream",
          "name": "stdout",
          "text": [
            "{has}\n"
          ]
        }
      ]
    }
  ]
}